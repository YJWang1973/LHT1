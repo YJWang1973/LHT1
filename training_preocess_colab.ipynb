{
  "nbformat": 4,
  "nbformat_minor": 0,
  "metadata": {
    "kernelspec": {
      "display_name": "Python 3",
      "language": "python",
      "name": "python3"
    },
    "language_info": {
      "codemirror_mode": {
        "name": "ipython",
        "version": 3
      },
      "file_extension": ".py",
      "mimetype": "text/x-python",
      "name": "python",
      "nbconvert_exporter": "python",
      "pygments_lexer": "ipython3",
      "version": "3.6.5"
    },
    "colab": {
      "name": "training_preocess.ipynb",
      "provenance": [],
      "include_colab_link": true
    }
  },
  "cells": [
    {
      "cell_type": "markdown",
      "metadata": {
        "id": "view-in-github",
        "colab_type": "text"
      },
      "source": [
        "<a href=\"https://colab.research.google.com/github/YJWang1973/LHT1/blob/master/training_preocess_colab.ipynb\" target=\"_parent\"><img src=\"https://colab.research.google.com/assets/colab-badge.svg\" alt=\"Open In Colab\"/></a>"
      ]
    },
    {
      "cell_type": "code",
      "metadata": {
        "id": "UHB-YBjiBCkH",
        "colab_type": "code",
        "colab": {}
      },
      "source": [
        "import matplotlib.pyplot as plt\n",
        "import matplotlib as mpl\n",
        "import itertools\n",
        "import numpy as np\n",
        "import keras\n",
        "from keras.callbacks import EarlyStopping\n",
        "from scipy import io\n",
        "import os\n",
        "import tensorflow as tf\n",
        "from sklearn import linear_model\n",
        "from sklearn import datasets\n",
        "from sklearn import metrics\n",
        "from keras import optimizers\n",
        "from keras.models import Model\n",
        "from keras.layers import Input, Dense, BatchNormalization, PReLU, LeakyReLU, Activation, ReLU, LSTM, Softmax\n",
        "from keras.models import Sequential\n",
        "from keras.utils import np_utils\n",
        "from keras.utils import plot_model\n",
        "from sklearn.preprocessing import scale\n",
        "from sklearn import model_selection"
      ],
      "execution_count": 0,
      "outputs": []
    },
    {
      "cell_type": "code",
      "metadata": {
        "id": "33lZYiyjBCkN",
        "colab_type": "code",
        "colab": {}
      },
      "source": [
        "\n",
        "training_data = io.loadmat(\"LHT1/Neural_in_all.mat\")['Neural_in_matrix']\n",
        "training_label = io.loadmat(\"LHT1/DS_all.mat\")['DS_matrix']"
      ],
      "execution_count": 0,
      "outputs": []
    },
    {
      "cell_type": "code",
      "metadata": {
        "id": "l_oxmELOBCkP",
        "colab_type": "code",
        "colab": {}
      },
      "source": [
        "def spliter(vec, cluster):\n",
        "    res = []\n",
        "    l = len(vec)/2\n",
        "    r = int(len(vec)/cluster)\n",
        "    for i in range(int(r/2)):\n",
        "        ans = []\n",
        "        \n",
        "        for j in range(cluster):\n",
        "            ans += [vec[j+i]]\n",
        "            \n",
        "        for j in range(cluster):\n",
        "            ans += [vec[j+i+int(l)]]        \n",
        "        res += [ans]\n",
        "        \n",
        "        \n",
        "    return np.array(res)"
      ],
      "execution_count": 0,
      "outputs": []
    },
    {
      "cell_type": "code",
      "metadata": {
        "id": "W5rBvMZ0BCkR",
        "colab_type": "code",
        "colab": {}
      },
      "source": [
        "def agg_maker(matrix, cluster):\n",
        "    aggre = spliter(matrix[0], cluster)\n",
        "    for i in range(1, matrix.shape[0]):\n",
        "        aggre = np.concatenate([aggre, spliter(matrix[i], cluster)])\n",
        "        \n",
        "    return aggre"
      ],
      "execution_count": 0,
      "outputs": []
    },
    {
      "cell_type": "code",
      "metadata": {
        "id": "hbG-NkX4BCkT",
        "colab_type": "code",
        "colab": {}
      },
      "source": [
        "aggre_train = agg_maker(training_data, 3)"
      ],
      "execution_count": 0,
      "outputs": []
    },
    {
      "cell_type": "code",
      "metadata": {
        "id": "RNFzw37OBCkV",
        "colab_type": "code",
        "colab": {}
      },
      "source": [
        "aggre_label = training_label.flatten()"
      ],
      "execution_count": 0,
      "outputs": []
    },
    {
      "cell_type": "code",
      "metadata": {
        "id": "3BSEYj1GBCkY",
        "colab_type": "code",
        "colab": {}
      },
      "source": [
        "from sklearn import preprocessing\n",
        "rg = 4000\n",
        "scaler = preprocessing.MinMaxScaler()\n",
        "scaler = scaler.fit(aggre_train[0:rg])\n",
        "scaled_aggre_train = scaler.transform(aggre_train[0:rg])"
      ],
      "execution_count": 0,
      "outputs": []
    },
    {
      "cell_type": "code",
      "metadata": {
        "id": "H5oWH05JBCka",
        "colab_type": "code",
        "colab": {
          "base_uri": "https://localhost:8080/",
          "height": 34
        },
        "outputId": "ad088cb1-4540-43fe-9d44-6aa2df31f265"
      },
      "source": [
        "scaled_aggre_train.shape"
      ],
      "execution_count": 40,
      "outputs": [
        {
          "output_type": "execute_result",
          "data": {
            "text/plain": [
              "(4000, 6)"
            ]
          },
          "metadata": {
            "tags": []
          },
          "execution_count": 40
        }
      ]
    },
    {
      "cell_type": "code",
      "metadata": {
        "scrolled": true,
        "id": "OuhxuqUHBCkc",
        "colab_type": "code",
        "colab": {
          "base_uri": "https://localhost:8080/",
          "height": 1000
        },
        "outputId": "b2b3332e-7ff1-4fcb-9323-440dc463880d"
      },
      "source": [
        "Raw = Input(shape = (aggre_train.shape[1], ))\n",
        "Dense_K1 = Dense(units = 16, activation = 'relu')(Raw)\n",
        "Dense_K2 = Dense(units = 64, activation = 'relu')(Dense_K1)\n",
        "Dense_K3 = Dense(units = 32, activation = 'relu')(Dense_K2)\n",
        "# Out = Dense(units = training_label.shape[1], activation = 'sigmoid')(PR_K3)\n",
        "Out = Dense(units = 1, activation = 'relu')(Dense_K3)\n",
        "\n",
        "\n",
        "adam = optimizers.Adam(lr = 0.001)\n",
        "model_new = Model(inputs = Raw, outputs = Out)\n",
        "model_new.compile(loss = 'mse', optimizer = 'rmsprop')\n",
        "# early_stopping = EarlyStopping(monitor = 'val_loss', patience = 5, verbose = 2)\n",
        "model_new.fit(scaled_aggre_train, aggre_label[0:rg], \n",
        "              epochs = 1000, batch_size = 4)"
      ],
      "execution_count": 41,
      "outputs": [
        {
          "output_type": "stream",
          "text": [
            "WARNING:tensorflow:From /usr/local/lib/python3.6/dist-packages/keras/backend/tensorflow_backend.py:66: The name tf.get_default_graph is deprecated. Please use tf.compat.v1.get_default_graph instead.\n",
            "\n",
            "WARNING:tensorflow:From /usr/local/lib/python3.6/dist-packages/keras/backend/tensorflow_backend.py:541: The name tf.placeholder is deprecated. Please use tf.compat.v1.placeholder instead.\n",
            "\n",
            "WARNING:tensorflow:From /usr/local/lib/python3.6/dist-packages/keras/backend/tensorflow_backend.py:4432: The name tf.random_uniform is deprecated. Please use tf.random.uniform instead.\n",
            "\n",
            "WARNING:tensorflow:From /usr/local/lib/python3.6/dist-packages/keras/optimizers.py:793: The name tf.train.Optimizer is deprecated. Please use tf.compat.v1.train.Optimizer instead.\n",
            "\n",
            "WARNING:tensorflow:From /usr/local/lib/python3.6/dist-packages/keras/backend/tensorflow_backend.py:1033: The name tf.assign_add is deprecated. Please use tf.compat.v1.assign_add instead.\n",
            "\n",
            "WARNING:tensorflow:From /usr/local/lib/python3.6/dist-packages/keras/backend/tensorflow_backend.py:1020: The name tf.assign is deprecated. Please use tf.compat.v1.assign instead.\n",
            "\n",
            "WARNING:tensorflow:From /usr/local/lib/python3.6/dist-packages/keras/backend/tensorflow_backend.py:3005: The name tf.Session is deprecated. Please use tf.compat.v1.Session instead.\n",
            "\n",
            "Epoch 1/1000\n",
            "WARNING:tensorflow:From /usr/local/lib/python3.6/dist-packages/keras/backend/tensorflow_backend.py:190: The name tf.get_default_session is deprecated. Please use tf.compat.v1.get_default_session instead.\n",
            "\n",
            "WARNING:tensorflow:From /usr/local/lib/python3.6/dist-packages/keras/backend/tensorflow_backend.py:197: The name tf.ConfigProto is deprecated. Please use tf.compat.v1.ConfigProto instead.\n",
            "\n",
            "WARNING:tensorflow:From /usr/local/lib/python3.6/dist-packages/keras/backend/tensorflow_backend.py:207: The name tf.global_variables is deprecated. Please use tf.compat.v1.global_variables instead.\n",
            "\n",
            "WARNING:tensorflow:From /usr/local/lib/python3.6/dist-packages/keras/backend/tensorflow_backend.py:216: The name tf.is_variable_initialized is deprecated. Please use tf.compat.v1.is_variable_initialized instead.\n",
            "\n",
            "WARNING:tensorflow:From /usr/local/lib/python3.6/dist-packages/keras/backend/tensorflow_backend.py:223: The name tf.variables_initializer is deprecated. Please use tf.compat.v1.variables_initializer instead.\n",
            "\n",
            "4000/4000 [==============================] - 2s 376us/step - loss: 3.2728\n",
            "Epoch 2/1000\n",
            "4000/4000 [==============================] - 1s 248us/step - loss: 2.9507\n",
            "Epoch 3/1000\n",
            "4000/4000 [==============================] - 1s 245us/step - loss: 2.8898\n",
            "Epoch 4/1000\n",
            "4000/4000 [==============================] - 1s 253us/step - loss: 2.8452\n",
            "Epoch 5/1000\n",
            "4000/4000 [==============================] - 1s 252us/step - loss: 2.8307\n",
            "Epoch 6/1000\n",
            "4000/4000 [==============================] - 1s 257us/step - loss: 2.8083\n",
            "Epoch 7/1000\n",
            "4000/4000 [==============================] - 1s 260us/step - loss: 2.7797\n",
            "Epoch 8/1000\n",
            "4000/4000 [==============================] - 1s 256us/step - loss: 2.7945\n",
            "Epoch 9/1000\n",
            "4000/4000 [==============================] - 1s 252us/step - loss: 2.7717\n",
            "Epoch 10/1000\n",
            "4000/4000 [==============================] - 1s 253us/step - loss: 2.7792\n",
            "Epoch 11/1000\n",
            "4000/4000 [==============================] - 1s 252us/step - loss: 2.7492\n",
            "Epoch 12/1000\n",
            "4000/4000 [==============================] - 1s 258us/step - loss: 2.7594\n",
            "Epoch 13/1000\n",
            "4000/4000 [==============================] - 1s 256us/step - loss: 2.7374\n",
            "Epoch 14/1000\n",
            "4000/4000 [==============================] - 1s 260us/step - loss: 2.7409\n",
            "Epoch 15/1000\n",
            "4000/4000 [==============================] - 1s 256us/step - loss: 2.7022\n",
            "Epoch 16/1000\n",
            "4000/4000 [==============================] - 1s 255us/step - loss: 2.6799\n",
            "Epoch 17/1000\n",
            "4000/4000 [==============================] - 1s 252us/step - loss: 2.6715\n",
            "Epoch 18/1000\n",
            "4000/4000 [==============================] - 1s 261us/step - loss: 2.6969\n",
            "Epoch 19/1000\n",
            "4000/4000 [==============================] - 1s 254us/step - loss: 2.6995\n",
            "Epoch 20/1000\n",
            "4000/4000 [==============================] - 1s 256us/step - loss: 2.6879\n",
            "Epoch 21/1000\n",
            "4000/4000 [==============================] - 1s 249us/step - loss: 2.6962\n",
            "Epoch 22/1000\n",
            "4000/4000 [==============================] - 1s 257us/step - loss: 2.6972\n",
            "Epoch 23/1000\n",
            "4000/4000 [==============================] - 1s 251us/step - loss: 2.7034\n",
            "Epoch 24/1000\n",
            "4000/4000 [==============================] - 1s 258us/step - loss: 2.6874\n",
            "Epoch 25/1000\n",
            "4000/4000 [==============================] - 1s 250us/step - loss: 2.6834\n",
            "Epoch 26/1000\n",
            "4000/4000 [==============================] - 1s 259us/step - loss: 2.6653\n",
            "Epoch 27/1000\n",
            "4000/4000 [==============================] - 1s 255us/step - loss: 2.6836\n",
            "Epoch 28/1000\n",
            "4000/4000 [==============================] - 1s 258us/step - loss: 2.6481\n",
            "Epoch 29/1000\n",
            "4000/4000 [==============================] - 1s 249us/step - loss: 2.6508\n",
            "Epoch 30/1000\n",
            "4000/4000 [==============================] - 1s 255us/step - loss: 2.6755\n",
            "Epoch 31/1000\n",
            "4000/4000 [==============================] - 1s 262us/step - loss: 2.6438\n",
            "Epoch 32/1000\n",
            "4000/4000 [==============================] - 1s 256us/step - loss: 2.6275\n",
            "Epoch 33/1000\n",
            "4000/4000 [==============================] - 1s 250us/step - loss: 2.6476\n",
            "Epoch 34/1000\n",
            "4000/4000 [==============================] - 1s 255us/step - loss: 2.6712\n",
            "Epoch 35/1000\n",
            "4000/4000 [==============================] - 1s 249us/step - loss: 2.6281\n",
            "Epoch 36/1000\n",
            "4000/4000 [==============================] - 1s 250us/step - loss: 2.6657\n",
            "Epoch 37/1000\n",
            "4000/4000 [==============================] - 1s 262us/step - loss: 2.6549\n",
            "Epoch 38/1000\n",
            "4000/4000 [==============================] - 1s 248us/step - loss: 2.6257\n",
            "Epoch 39/1000\n",
            "4000/4000 [==============================] - 1s 257us/step - loss: 2.6402\n",
            "Epoch 40/1000\n",
            "4000/4000 [==============================] - 1s 251us/step - loss: 2.6122\n",
            "Epoch 41/1000\n",
            "4000/4000 [==============================] - 1s 258us/step - loss: 2.6603\n",
            "Epoch 42/1000\n",
            "4000/4000 [==============================] - 1s 256us/step - loss: 2.6553\n",
            "Epoch 43/1000\n",
            "4000/4000 [==============================] - 1s 256us/step - loss: 2.6510\n",
            "Epoch 44/1000\n",
            "4000/4000 [==============================] - 1s 255us/step - loss: 2.7050\n",
            "Epoch 45/1000\n",
            "4000/4000 [==============================] - 1s 258us/step - loss: 2.6583\n",
            "Epoch 46/1000\n",
            "4000/4000 [==============================] - 1s 252us/step - loss: 2.6520\n",
            "Epoch 47/1000\n",
            "4000/4000 [==============================] - 1s 257us/step - loss: 2.6279\n",
            "Epoch 48/1000\n",
            "4000/4000 [==============================] - 1s 253us/step - loss: 2.6215\n",
            "Epoch 49/1000\n",
            "4000/4000 [==============================] - 1s 256us/step - loss: 2.6146\n",
            "Epoch 50/1000\n",
            "4000/4000 [==============================] - 1s 250us/step - loss: 2.6221\n",
            "Epoch 51/1000\n",
            "4000/4000 [==============================] - 1s 252us/step - loss: 2.6343\n",
            "Epoch 52/1000\n",
            "4000/4000 [==============================] - 1s 258us/step - loss: 2.6588\n",
            "Epoch 53/1000\n",
            "4000/4000 [==============================] - 1s 257us/step - loss: 2.6040\n",
            "Epoch 54/1000\n",
            "4000/4000 [==============================] - 1s 257us/step - loss: 2.6274\n",
            "Epoch 55/1000\n",
            "4000/4000 [==============================] - 1s 246us/step - loss: 2.6117\n",
            "Epoch 56/1000\n",
            "4000/4000 [==============================] - 1s 256us/step - loss: 2.6140\n",
            "Epoch 57/1000\n",
            "4000/4000 [==============================] - 1s 252us/step - loss: 2.6069\n",
            "Epoch 58/1000\n",
            "4000/4000 [==============================] - 1s 249us/step - loss: 2.6385\n",
            "Epoch 59/1000\n",
            "4000/4000 [==============================] - 1s 250us/step - loss: 2.6069\n",
            "Epoch 60/1000\n",
            "4000/4000 [==============================] - 1s 246us/step - loss: 2.6184\n",
            "Epoch 61/1000\n",
            "4000/4000 [==============================] - 1s 255us/step - loss: 2.6244\n",
            "Epoch 62/1000\n",
            "4000/4000 [==============================] - 1s 253us/step - loss: 2.6180\n",
            "Epoch 63/1000\n",
            "4000/4000 [==============================] - 1s 247us/step - loss: 2.6212\n",
            "Epoch 64/1000\n",
            "4000/4000 [==============================] - 1s 250us/step - loss: 2.6691\n",
            "Epoch 65/1000\n",
            "4000/4000 [==============================] - 1s 249us/step - loss: 2.6120\n",
            "Epoch 66/1000\n",
            "4000/4000 [==============================] - 1s 248us/step - loss: 2.6054\n",
            "Epoch 67/1000\n",
            "4000/4000 [==============================] - 1s 249us/step - loss: 2.6109\n",
            "Epoch 68/1000\n",
            "4000/4000 [==============================] - 1s 250us/step - loss: 2.6434\n",
            "Epoch 69/1000\n",
            "4000/4000 [==============================] - 1s 258us/step - loss: 2.6411\n",
            "Epoch 70/1000\n",
            "4000/4000 [==============================] - 1s 249us/step - loss: 2.6457\n",
            "Epoch 71/1000\n",
            "4000/4000 [==============================] - 1s 256us/step - loss: 2.6376\n",
            "Epoch 72/1000\n",
            "4000/4000 [==============================] - 1s 259us/step - loss: 2.7040\n",
            "Epoch 73/1000\n",
            "4000/4000 [==============================] - 1s 247us/step - loss: 2.7484\n",
            "Epoch 74/1000\n",
            "4000/4000 [==============================] - 1s 252us/step - loss: 2.7397\n",
            "Epoch 75/1000\n",
            "4000/4000 [==============================] - 1s 253us/step - loss: 2.6657\n",
            "Epoch 76/1000\n",
            "4000/4000 [==============================] - 1s 257us/step - loss: 2.6320\n",
            "Epoch 77/1000\n",
            "4000/4000 [==============================] - 1s 255us/step - loss: 2.6243\n",
            "Epoch 78/1000\n",
            "4000/4000 [==============================] - 1s 252us/step - loss: 2.6140\n",
            "Epoch 79/1000\n",
            "4000/4000 [==============================] - 1s 258us/step - loss: 2.6174\n",
            "Epoch 80/1000\n",
            "4000/4000 [==============================] - 1s 249us/step - loss: 2.6575\n",
            "Epoch 81/1000\n",
            "4000/4000 [==============================] - 1s 254us/step - loss: 2.6548\n",
            "Epoch 82/1000\n",
            "4000/4000 [==============================] - 1s 250us/step - loss: 2.6773\n",
            "Epoch 83/1000\n",
            "4000/4000 [==============================] - 1s 258us/step - loss: 2.6403\n",
            "Epoch 84/1000\n",
            "4000/4000 [==============================] - 1s 255us/step - loss: 2.6344\n",
            "Epoch 85/1000\n",
            "4000/4000 [==============================] - 1s 251us/step - loss: 2.6316\n",
            "Epoch 86/1000\n",
            "4000/4000 [==============================] - 1s 247us/step - loss: 2.6344\n",
            "Epoch 87/1000\n",
            "4000/4000 [==============================] - 1s 256us/step - loss: 2.6488\n",
            "Epoch 88/1000\n",
            "4000/4000 [==============================] - 1s 252us/step - loss: 2.6449\n",
            "Epoch 89/1000\n",
            "4000/4000 [==============================] - 1s 256us/step - loss: 2.6511\n",
            "Epoch 90/1000\n",
            "4000/4000 [==============================] - 1s 255us/step - loss: 2.6695\n",
            "Epoch 91/1000\n",
            "4000/4000 [==============================] - 1s 259us/step - loss: 2.6421\n",
            "Epoch 92/1000\n",
            "4000/4000 [==============================] - 1s 253us/step - loss: 2.6500\n",
            "Epoch 93/1000\n",
            "4000/4000 [==============================] - 1s 251us/step - loss: 2.6580\n",
            "Epoch 94/1000\n",
            "4000/4000 [==============================] - 1s 258us/step - loss: 2.6577\n",
            "Epoch 95/1000\n",
            "4000/4000 [==============================] - 1s 257us/step - loss: 2.6754\n",
            "Epoch 96/1000\n",
            "4000/4000 [==============================] - 1s 252us/step - loss: 2.6970\n",
            "Epoch 97/1000\n",
            "4000/4000 [==============================] - 1s 252us/step - loss: 2.6890\n",
            "Epoch 98/1000\n",
            "4000/4000 [==============================] - 1s 252us/step - loss: 2.6832\n",
            "Epoch 99/1000\n",
            "4000/4000 [==============================] - 1s 250us/step - loss: 2.6577\n",
            "Epoch 100/1000\n",
            "4000/4000 [==============================] - 1s 258us/step - loss: 2.6134\n",
            "Epoch 101/1000\n",
            "4000/4000 [==============================] - 1s 250us/step - loss: 2.6333\n",
            "Epoch 102/1000\n",
            "4000/4000 [==============================] - 1s 258us/step - loss: 2.6544\n",
            "Epoch 103/1000\n",
            "4000/4000 [==============================] - 1s 259us/step - loss: 2.6242\n",
            "Epoch 104/1000\n",
            "4000/4000 [==============================] - 1s 251us/step - loss: 2.6363\n",
            "Epoch 105/1000\n",
            "4000/4000 [==============================] - 1s 254us/step - loss: 2.6272\n",
            "Epoch 106/1000\n",
            "4000/4000 [==============================] - 1s 248us/step - loss: 2.6195\n",
            "Epoch 107/1000\n",
            "4000/4000 [==============================] - 1s 254us/step - loss: 2.6594\n",
            "Epoch 108/1000\n",
            "4000/4000 [==============================] - 1s 247us/step - loss: 2.6294\n",
            "Epoch 109/1000\n",
            "4000/4000 [==============================] - 1s 250us/step - loss: 2.6072\n",
            "Epoch 110/1000\n",
            "4000/4000 [==============================] - 1s 257us/step - loss: 2.6248\n",
            "Epoch 111/1000\n",
            "4000/4000 [==============================] - 1s 256us/step - loss: 2.6088\n",
            "Epoch 112/1000\n",
            "4000/4000 [==============================] - 1s 251us/step - loss: 2.6035\n",
            "Epoch 113/1000\n",
            "4000/4000 [==============================] - 1s 252us/step - loss: 2.5863\n",
            "Epoch 114/1000\n",
            "4000/4000 [==============================] - 1s 250us/step - loss: 2.6127\n",
            "Epoch 115/1000\n",
            "4000/4000 [==============================] - 1s 260us/step - loss: 2.5742\n",
            "Epoch 116/1000\n",
            "4000/4000 [==============================] - 1s 247us/step - loss: 2.6284\n",
            "Epoch 117/1000\n",
            " 400/4000 [==>...........................] - ETA: 0s - loss: 2.5953"
          ],
          "name": "stdout"
        },
        {
          "output_type": "error",
          "ename": "KeyboardInterrupt",
          "evalue": "ignored",
          "traceback": [
            "\u001b[0;31m---------------------------------------------------------------------------\u001b[0m",
            "\u001b[0;31mKeyboardInterrupt\u001b[0m                         Traceback (most recent call last)",
            "\u001b[0;32m<ipython-input-41-cc003b16502e>\u001b[0m in \u001b[0;36m<module>\u001b[0;34m()\u001b[0m\n\u001b[1;32m     12\u001b[0m \u001b[0;31m# early_stopping = EarlyStopping(monitor = 'val_loss', patience = 5, verbose = 2)\u001b[0m\u001b[0;34m\u001b[0m\u001b[0;34m\u001b[0m\u001b[0;34m\u001b[0m\u001b[0m\n\u001b[1;32m     13\u001b[0m model_new.fit(scaled_aggre_train, aggre_label[0:rg], \n\u001b[0;32m---> 14\u001b[0;31m               epochs = 1000, batch_size = 4)\n\u001b[0m",
            "\u001b[0;32m/usr/local/lib/python3.6/dist-packages/keras/engine/training.py\u001b[0m in \u001b[0;36mfit\u001b[0;34m(self, x, y, batch_size, epochs, verbose, callbacks, validation_split, validation_data, shuffle, class_weight, sample_weight, initial_epoch, steps_per_epoch, validation_steps, validation_freq, max_queue_size, workers, use_multiprocessing, **kwargs)\u001b[0m\n\u001b[1;32m   1176\u001b[0m                                         \u001b[0msteps_per_epoch\u001b[0m\u001b[0;34m=\u001b[0m\u001b[0msteps_per_epoch\u001b[0m\u001b[0;34m,\u001b[0m\u001b[0;34m\u001b[0m\u001b[0;34m\u001b[0m\u001b[0m\n\u001b[1;32m   1177\u001b[0m                                         \u001b[0mvalidation_steps\u001b[0m\u001b[0;34m=\u001b[0m\u001b[0mvalidation_steps\u001b[0m\u001b[0;34m,\u001b[0m\u001b[0;34m\u001b[0m\u001b[0;34m\u001b[0m\u001b[0m\n\u001b[0;32m-> 1178\u001b[0;31m                                         validation_freq=validation_freq)\n\u001b[0m\u001b[1;32m   1179\u001b[0m \u001b[0;34m\u001b[0m\u001b[0m\n\u001b[1;32m   1180\u001b[0m     def evaluate(self,\n",
            "\u001b[0;32m/usr/local/lib/python3.6/dist-packages/keras/engine/training_arrays.py\u001b[0m in \u001b[0;36mfit_loop\u001b[0;34m(model, fit_function, fit_inputs, out_labels, batch_size, epochs, verbose, callbacks, val_function, val_inputs, shuffle, callback_metrics, initial_epoch, steps_per_epoch, validation_steps, validation_freq)\u001b[0m\n\u001b[1;32m    207\u001b[0m                     \u001b[0mbatch_logs\u001b[0m\u001b[0;34m[\u001b[0m\u001b[0ml\u001b[0m\u001b[0;34m]\u001b[0m \u001b[0;34m=\u001b[0m \u001b[0mo\u001b[0m\u001b[0;34m\u001b[0m\u001b[0;34m\u001b[0m\u001b[0m\n\u001b[1;32m    208\u001b[0m \u001b[0;34m\u001b[0m\u001b[0m\n\u001b[0;32m--> 209\u001b[0;31m                 \u001b[0mcallbacks\u001b[0m\u001b[0;34m.\u001b[0m\u001b[0m_call_batch_hook\u001b[0m\u001b[0;34m(\u001b[0m\u001b[0;34m'train'\u001b[0m\u001b[0;34m,\u001b[0m \u001b[0;34m'end'\u001b[0m\u001b[0;34m,\u001b[0m \u001b[0mbatch_index\u001b[0m\u001b[0;34m,\u001b[0m \u001b[0mbatch_logs\u001b[0m\u001b[0;34m)\u001b[0m\u001b[0;34m\u001b[0m\u001b[0;34m\u001b[0m\u001b[0m\n\u001b[0m\u001b[1;32m    210\u001b[0m                 \u001b[0;32mif\u001b[0m \u001b[0mcallbacks\u001b[0m\u001b[0;34m.\u001b[0m\u001b[0mmodel\u001b[0m\u001b[0;34m.\u001b[0m\u001b[0mstop_training\u001b[0m\u001b[0;34m:\u001b[0m\u001b[0;34m\u001b[0m\u001b[0;34m\u001b[0m\u001b[0m\n\u001b[1;32m    211\u001b[0m                     \u001b[0;32mbreak\u001b[0m\u001b[0;34m\u001b[0m\u001b[0;34m\u001b[0m\u001b[0m\n",
            "\u001b[0;32m/usr/local/lib/python3.6/dist-packages/keras/callbacks.py\u001b[0m in \u001b[0;36m_call_batch_hook\u001b[0;34m(self, mode, hook, batch, logs)\u001b[0m\n\u001b[1;32m     86\u001b[0m         \u001b[0mself\u001b[0m\u001b[0;34m.\u001b[0m\u001b[0m_delta_ts\u001b[0m\u001b[0;34m[\u001b[0m\u001b[0mhook_name\u001b[0m\u001b[0;34m]\u001b[0m\u001b[0;34m.\u001b[0m\u001b[0mappend\u001b[0m\u001b[0;34m(\u001b[0m\u001b[0mtime\u001b[0m\u001b[0;34m.\u001b[0m\u001b[0mtime\u001b[0m\u001b[0;34m(\u001b[0m\u001b[0;34m)\u001b[0m \u001b[0;34m-\u001b[0m \u001b[0mt_before_callbacks\u001b[0m\u001b[0;34m)\u001b[0m\u001b[0;34m\u001b[0m\u001b[0;34m\u001b[0m\u001b[0m\n\u001b[1;32m     87\u001b[0m \u001b[0;34m\u001b[0m\u001b[0m\n\u001b[0;32m---> 88\u001b[0;31m         \u001b[0mdelta_t_median\u001b[0m \u001b[0;34m=\u001b[0m \u001b[0mnp\u001b[0m\u001b[0;34m.\u001b[0m\u001b[0mmedian\u001b[0m\u001b[0;34m(\u001b[0m\u001b[0mself\u001b[0m\u001b[0;34m.\u001b[0m\u001b[0m_delta_ts\u001b[0m\u001b[0;34m[\u001b[0m\u001b[0mhook_name\u001b[0m\u001b[0;34m]\u001b[0m\u001b[0;34m)\u001b[0m\u001b[0;34m\u001b[0m\u001b[0;34m\u001b[0m\u001b[0m\n\u001b[0m\u001b[1;32m     89\u001b[0m         if (self._delta_t_batch > 0. and\n\u001b[1;32m     90\u001b[0m            \u001b[0mdelta_t_median\u001b[0m \u001b[0;34m>\u001b[0m \u001b[0;36m0.95\u001b[0m \u001b[0;34m*\u001b[0m \u001b[0mself\u001b[0m\u001b[0;34m.\u001b[0m\u001b[0m_delta_t_batch\u001b[0m \u001b[0;32mand\u001b[0m\u001b[0;34m\u001b[0m\u001b[0;34m\u001b[0m\u001b[0m\n",
            "\u001b[0;32m<__array_function__ internals>\u001b[0m in \u001b[0;36mmedian\u001b[0;34m(*args, **kwargs)\u001b[0m\n",
            "\u001b[0;32m/usr/local/lib/python3.6/dist-packages/numpy/lib/function_base.py\u001b[0m in \u001b[0;36mmedian\u001b[0;34m(a, axis, out, overwrite_input, keepdims)\u001b[0m\n\u001b[1;32m   3500\u001b[0m     \"\"\"\n\u001b[1;32m   3501\u001b[0m     r, k = _ureduce(a, func=_median, axis=axis, out=out,\n\u001b[0;32m-> 3502\u001b[0;31m                     overwrite_input=overwrite_input)\n\u001b[0m\u001b[1;32m   3503\u001b[0m     \u001b[0;32mif\u001b[0m \u001b[0mkeepdims\u001b[0m\u001b[0;34m:\u001b[0m\u001b[0;34m\u001b[0m\u001b[0;34m\u001b[0m\u001b[0m\n\u001b[1;32m   3504\u001b[0m         \u001b[0;32mreturn\u001b[0m \u001b[0mr\u001b[0m\u001b[0;34m.\u001b[0m\u001b[0mreshape\u001b[0m\u001b[0;34m(\u001b[0m\u001b[0mk\u001b[0m\u001b[0;34m)\u001b[0m\u001b[0;34m\u001b[0m\u001b[0;34m\u001b[0m\u001b[0m\n",
            "\u001b[0;32m/usr/local/lib/python3.6/dist-packages/numpy/lib/function_base.py\u001b[0m in \u001b[0;36m_ureduce\u001b[0;34m(a, func, **kwargs)\u001b[0m\n\u001b[1;32m   3408\u001b[0m         \u001b[0mkeepdim\u001b[0m \u001b[0;34m=\u001b[0m \u001b[0;34m(\u001b[0m\u001b[0;36m1\u001b[0m\u001b[0;34m,\u001b[0m\u001b[0;34m)\u001b[0m \u001b[0;34m*\u001b[0m \u001b[0ma\u001b[0m\u001b[0;34m.\u001b[0m\u001b[0mndim\u001b[0m\u001b[0;34m\u001b[0m\u001b[0;34m\u001b[0m\u001b[0m\n\u001b[1;32m   3409\u001b[0m \u001b[0;34m\u001b[0m\u001b[0m\n\u001b[0;32m-> 3410\u001b[0;31m     \u001b[0mr\u001b[0m \u001b[0;34m=\u001b[0m \u001b[0mfunc\u001b[0m\u001b[0;34m(\u001b[0m\u001b[0ma\u001b[0m\u001b[0;34m,\u001b[0m \u001b[0;34m**\u001b[0m\u001b[0mkwargs\u001b[0m\u001b[0;34m)\u001b[0m\u001b[0;34m\u001b[0m\u001b[0;34m\u001b[0m\u001b[0m\n\u001b[0m\u001b[1;32m   3411\u001b[0m     \u001b[0;32mreturn\u001b[0m \u001b[0mr\u001b[0m\u001b[0;34m,\u001b[0m \u001b[0mkeepdim\u001b[0m\u001b[0;34m\u001b[0m\u001b[0;34m\u001b[0m\u001b[0m\n\u001b[1;32m   3412\u001b[0m \u001b[0;34m\u001b[0m\u001b[0m\n",
            "\u001b[0;32m/usr/local/lib/python3.6/dist-packages/numpy/lib/function_base.py\u001b[0m in \u001b[0;36m_median\u001b[0;34m(a, axis, out, overwrite_input)\u001b[0m\n\u001b[1;32m   3554\u001b[0m         \u001b[0;31m# warn and return nans like mean would\u001b[0m\u001b[0;34m\u001b[0m\u001b[0;34m\u001b[0m\u001b[0;34m\u001b[0m\u001b[0m\n\u001b[1;32m   3555\u001b[0m         \u001b[0mrout\u001b[0m \u001b[0;34m=\u001b[0m \u001b[0mmean\u001b[0m\u001b[0;34m(\u001b[0m\u001b[0mpart\u001b[0m\u001b[0;34m[\u001b[0m\u001b[0mindexer\u001b[0m\u001b[0;34m]\u001b[0m\u001b[0;34m,\u001b[0m \u001b[0maxis\u001b[0m\u001b[0;34m=\u001b[0m\u001b[0maxis\u001b[0m\u001b[0;34m,\u001b[0m \u001b[0mout\u001b[0m\u001b[0;34m=\u001b[0m\u001b[0mout\u001b[0m\u001b[0;34m)\u001b[0m\u001b[0;34m\u001b[0m\u001b[0;34m\u001b[0m\u001b[0m\n\u001b[0;32m-> 3556\u001b[0;31m         \u001b[0;32mreturn\u001b[0m \u001b[0mnp\u001b[0m\u001b[0;34m.\u001b[0m\u001b[0mlib\u001b[0m\u001b[0;34m.\u001b[0m\u001b[0mutils\u001b[0m\u001b[0;34m.\u001b[0m\u001b[0m_median_nancheck\u001b[0m\u001b[0;34m(\u001b[0m\u001b[0mpart\u001b[0m\u001b[0;34m,\u001b[0m \u001b[0mrout\u001b[0m\u001b[0;34m,\u001b[0m \u001b[0maxis\u001b[0m\u001b[0;34m,\u001b[0m \u001b[0mout\u001b[0m\u001b[0;34m)\u001b[0m\u001b[0;34m\u001b[0m\u001b[0;34m\u001b[0m\u001b[0m\n\u001b[0m\u001b[1;32m   3557\u001b[0m     \u001b[0;32melse\u001b[0m\u001b[0;34m:\u001b[0m\u001b[0;34m\u001b[0m\u001b[0;34m\u001b[0m\u001b[0m\n\u001b[1;32m   3558\u001b[0m         \u001b[0;31m# if there are no nans\u001b[0m\u001b[0;34m\u001b[0m\u001b[0;34m\u001b[0m\u001b[0;34m\u001b[0m\u001b[0m\n",
            "\u001b[0;31mKeyboardInterrupt\u001b[0m: "
          ]
        }
      ]
    },
    {
      "cell_type": "code",
      "metadata": {
        "id": "cvzpeICKDhqi",
        "colab_type": "code",
        "colab": {}
      },
      "source": [
        "import os\n",
        "os.environ[\"CUDA_VISIBLE_DEVICES\"] = \"2\""
      ],
      "execution_count": 0,
      "outputs": []
    },
    {
      "cell_type": "code",
      "metadata": {
        "id": "VEzzcYAGBCke",
        "colab_type": "code",
        "colab": {},
        "outputId": "bbab2442-e319-4c6d-ad7f-ff373b29a137"
      },
      "source": [
        "plt.plot(model_new.predict(scaled_aggre_train[0:201]))\n",
        "plt.plot(aggre_label[0:201])"
      ],
      "execution_count": 0,
      "outputs": [
        {
          "output_type": "execute_result",
          "data": {
            "text/plain": [
              "[<matplotlib.lines.Line2D at 0x1a367221d0>]"
            ]
          },
          "metadata": {
            "tags": []
          },
          "execution_count": 86
        },
        {
          "output_type": "display_data",
          "data": {
            "image/png": "[encoded data removed]",
            "text/plain": [
              "<Figure size 432x288 with 1 Axes>"
            ]
          },
          "metadata": {
            "tags": []
          }
        }
      ]
    },
    {
      "cell_type": "code",
      "metadata": {
        "id": "Ab7JqaqHBCkg",
        "colab_type": "code",
        "colab": {
          "base_uri": "https://localhost:8080/",
          "height": 85
        },
        "outputId": "6aefb09a-f9f2-4df2-85c4-aada82fb9cc6"
      },
      "source": [
        "! git clone https://github.com/YJWang1973/LHT1.git"
      ],
      "execution_count": 15,
      "outputs": [
        {
          "output_type": "stream",
          "text": [
            "Cloning into 'LHT1'...\n",
            "remote: Enumerating objects: 20, done.\u001b[K\n",
            "remote: Total 20 (delta 0), reused 0 (delta 0), pack-reused 20\u001b[K\n",
            "Unpacking objects: 100% (20/20), done.\n"
          ],
          "name": "stdout"
        }
      ]
    },
    {
      "cell_type": "code",
      "metadata": {
        "id": "5faqydatBldD",
        "colab_type": "code",
        "colab": {
          "base_uri": "https://localhost:8080/",
          "height": 34
        },
        "outputId": "c92f3e73-e485-4e90-f595-26d7f05a1943"
      },
      "source": [
        "! ls"
      ],
      "execution_count": 19,
      "outputs": [
        {
          "output_type": "stream",
          "text": [
            "cats_and_dogs_small  LHT1  sample_data\n"
          ],
          "name": "stdout"
        }
      ]
    },
    {
      "cell_type": "code",
      "metadata": {
        "id": "kLzlvY_fBsRq",
        "colab_type": "code",
        "colab": {
          "base_uri": "https://localhost:8080/",
          "height": 34
        },
        "outputId": "8bf86280-5841-430e-b6f1-c5bd363c7ddd"
      },
      "source": [
        "! cd /LHT1\n",
        "\n"
      ],
      "execution_count": 27,
      "outputs": [
        {
          "output_type": "stream",
          "text": [
            "/bin/bash: line 0: cd: /LHT1: No such file or directory\n"
          ],
          "name": "stdout"
        }
      ]
    },
    {
      "cell_type": "code",
      "metadata": {
        "id": "0uksGYu7B7bs",
        "colab_type": "code",
        "colab": {
          "base_uri": "https://localhost:8080/",
          "height": 34
        },
        "outputId": "69e3de83-82b6-4a24-bd6d-897ef1339dac"
      },
      "source": [
        "! ls"
      ],
      "execution_count": 26,
      "outputs": [
        {
          "output_type": "stream",
          "text": [
            "cats_and_dogs_small  LHT1  sample_data\n"
          ],
          "name": "stdout"
        }
      ]
    },
    {
      "cell_type": "code",
      "metadata": {
        "id": "1TUwxQ6cB85e",
        "colab_type": "code",
        "colab": {
          "base_uri": "https://localhost:8080/",
          "height": 289
        },
        "outputId": "3f82e2d3-6b67-4c09-b87c-1a6fcd05ffdc"
      },
      "source": [
        "io.loadmat(\"LHT1/Neural_in_all.mat\")"
      ],
      "execution_count": 32,
      "outputs": [
        {
          "output_type": "execute_result",
          "data": {
            "text/plain": [
              "{'Neural_in_matrix': array([[ 1.83787401e-05, -2.06520537e-05,  2.22760613e-05, ...,\n",
              "         -4.72455093e-05,  4.45498070e-05,  1.25651690e-05],\n",
              "        [-6.81535171e-06, -1.33070174e-05, -1.17799121e-05, ...,\n",
              "         -3.59289395e-05, -3.79160052e-06,  6.28905886e-05],\n",
              "        [-1.54923712e-04, -2.24058268e-04, -3.46186114e-04, ...,\n",
              "          1.73520635e-04,  8.16470693e-05, -1.53704032e-04],\n",
              "        ...,\n",
              "        [-8.10809502e-06,  1.78646825e-04,  4.04820310e-05, ...,\n",
              "         -1.03032353e-05,  1.56583619e-05,  2.56191864e-05],\n",
              "        [ 1.68024993e-04,  1.30477037e-04, -1.08804997e-04, ...,\n",
              "         -1.47797949e-06, -5.63481042e-06, -3.47550903e-06],\n",
              "        [-3.05561364e-05,  1.12020370e-04,  1.09688256e-05, ...,\n",
              "         -7.65660883e-05,  1.01030298e-04,  9.57376355e-05]]),\n",
              " '__globals__': [],\n",
              " '__header__': b'MATLAB 5.0 MAT-file, Platform: MACI64, Created on: Fri Jan  3 19:29:25 2020',\n",
              " '__version__': '1.0'}"
            ]
          },
          "metadata": {
            "tags": []
          },
          "execution_count": 32
        }
      ]
    },
    {
      "cell_type": "code",
      "metadata": {
        "id": "GJiE9dcrCpt8",
        "colab_type": "code",
        "colab": {
          "base_uri": "https://localhost:8080/",
          "height": 289
        },
        "outputId": "435ea15c-8fb9-44a3-c3fe-bf7080b0b75d"
      },
      "source": [
        "io.loadmat(\"LHT1/DS_all.mat\")"
      ],
      "execution_count": 33,
      "outputs": [
        {
          "output_type": "execute_result",
          "data": {
            "text/plain": [
              "{'DS_matrix': array([[5.80874248, 5.74960607, 5.68728629, ..., 1.14072002, 1.13727397,\n",
              "         1.13371152],\n",
              "        [2.15283928, 2.12685393, 2.10081165, ..., 1.07635403, 1.07221181,\n",
              "         1.06797033],\n",
              "        [0.57633589, 0.5670873 , 0.55798908, ..., 0.57988952, 0.57348693,\n",
              "         0.56708106],\n",
              "        ...,\n",
              "        [1.43617004, 1.42481906, 1.41352278, ..., 1.74561428, 1.75168368,\n",
              "         1.75772107],\n",
              "        [0.85944294, 0.86518706, 0.87091341, ..., 1.39035482, 1.38811295,\n",
              "         1.38595962],\n",
              "        [0.97911589, 0.97107543, 0.96315221, ..., 0.50623934, 0.50386432,\n",
              "         0.50189357]]),\n",
              " '__globals__': [],\n",
              " '__header__': b'MATLAB 5.0 MAT-file, Platform: MACI64, Created on: Fri Jan  3 19:37:30 2020',\n",
              " '__version__': '1.0'}"
            ]
          },
          "metadata": {
            "tags": []
          },
          "execution_count": 33
        }
      ]
    }
  ]
}